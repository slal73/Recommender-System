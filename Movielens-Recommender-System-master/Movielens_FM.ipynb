{
 "cells": [
  {
   "cell_type": "code",
   "execution_count": 1,
   "metadata": {},
   "outputs": [],
   "source": [
    "import pandas as pd;\n",
    "import numpy as np;\n",
    "import time;\n",
    "import sagemaker as sg;\n",
    "import scipy;\n",
    "import csv;\n",
    "import xlearn as xl;\n",
    "import random;"
   ]
  },
  {
   "cell_type": "markdown",
   "metadata": {},
   "source": [
    "\n",
    "```\n",
    "dataLink :  http://files.grouplens.org/datasets/movielens/ml-latest-small.zip\n",
    "groupLens: https://grouplens.org/datasets/movielens/\n",
    "readMe: http://files.grouplens.org/datasets/movielens/ml-latest-small-README.html\n",
    "```"
   ]
  },
  {
   "cell_type": "markdown",
   "metadata": {},
   "source": [
    "### Summary\n",
    "This dataset (ml-latest-small) describes 5-star rating and free-text tagging activity from MovieLens, a movie recommendation service. It contains 100836 ratings and 3683 tag applications across 9742 movies. These data were created by 610 users between March 29, 1996 and September 24, 2018. This dataset was generated on September 26, 2018.\n",
    "\n",
    "Users were selected at random for inclusion. All selected users had rated at least 20 movies. No demographic information is included. Each user is represented by an id, and no other information is provided.\n",
    "\n",
    "The data are contained in the files links.csv, movies.csv, ratings.csv and tags.csv. More details about the contents and use of all these files follows.\n",
    "\n",
    "This is a development dataset. As such, it may change over time and is not an appropriate dataset for shared research results. See available benchmark datasets if that is your intent.\n",
    "\n",
    "This and other GroupLens data sets are publicly available for download at http://grouplens.org/datasets/."
   ]
  },
  {
   "cell_type": "code",
   "execution_count": 2,
   "metadata": {},
   "outputs": [],
   "source": [
    "#genome_scores = pd.read_csv('ml-latest/genome-scores.csv')\n",
    "#genome_tags = pd.read_csv('ml-latest/genome-tags.CSV')\n",
    "links = pd.read_csv('ml-latest-small/links.csv')\n",
    "movies = pd.read_csv('ml-latest-small/movies.csv')\n",
    "ratings = pd.read_csv('ml-latest-small/ratings.csv')\n",
    "tags = pd.read_csv('ml-latest-small/tags.csv')"
   ]
  },
  {
   "cell_type": "markdown",
   "metadata": {},
   "source": [
    "##### Preparing data in libsvm & libffm format"
   ]
  },
  {
   "cell_type": "code",
   "execution_count": 3,
   "metadata": {},
   "outputs": [],
   "source": [
    "###Convert data to libsvm format\n",
    "\n",
    "def convert_to_fm(filename,df,_type,features,_model = \"fm\",label = \"rating\"):\n",
    "    \n",
    "    #store fields for ffm\n",
    "    df = df[features]\n",
    "    \n",
    "    \n",
    "    #get total number of indices required\n",
    "    field_list = list(df.columns)\n",
    "    field_list.remove(label)\n",
    "    \n",
    "    #index count\n",
    "    ind_cnt = -1\n",
    "    \n",
    "    #ind_dict is a dictionary of dictionary\n",
    "    ind_dict = {}\n",
    "    \n",
    "    for col in  field_list:\n",
    "        sub_dict = {}\n",
    "        #maintains unique indices for unique values in each of the field\n",
    "        sub_dict = dict(zip(df[col].unique(),map(lambda x : x + ind_cnt + 1,range(df[col].nunique()))))\n",
    "        #sub_dict should have global indices against each unique value in the field\n",
    "        \n",
    "        ind_cnt += df[col].nunique()\n",
    "        ind_dict[col] = sub_dict\n",
    "    \n",
    "    if _model==\"ffm\":\n",
    "        add_field = 1\n",
    "    else:\n",
    "        add_field = 0\n",
    "    \n",
    "    nrow = df.shape[0]\n",
    "    \n",
    "    \n",
    "    #write into a text file : ffm/fm processed data\n",
    "    #val = f.split(\",\")\n",
    "    \n",
    "    text_file = open(filename,'w')\n",
    "       \n",
    "    for r in range(nrow):\n",
    "        datastring = \"\"\n",
    "        x = df.iloc[r].to_dict()\n",
    "        datastring += str(int(x['rating']))\n",
    "        x.pop('rating',None)\n",
    "        \n",
    "        for c in x.keys():\n",
    "            datastring += \",\" + (c + \":\") * add_field + str(int(ind_dict[c][x[c]])) + \":\" + \"1\"\n",
    "          \n",
    "        datastring += \"\\n\"\n",
    "        text_file.write(datastring)\n",
    "        \n",
    "    text_file.close()"
   ]
  },
  {
   "cell_type": "markdown",
   "metadata": {},
   "source": [
    "##### Running a basic model"
   ]
  },
  {
   "cell_type": "code",
   "execution_count": 14,
   "metadata": {},
   "outputs": [],
   "source": [
    "convert_to_fm('test.txt',ratings,\"text\",['userId', 'movieId', 'rating'])\n",
    "fm_model = xl.create_fm()\n",
    "fm_model.setTrain(\"./test.txt\")\n",
    "#fm_model.setValidate(\"./small_test.txt\")\n",
    "param = {'task':'reg', 'lr':0.2, 'lambda':0.002}\n",
    "\n",
    "fm_model.fit(param, \"./model.out\")"
   ]
  },
  {
   "cell_type": "code",
   "execution_count": 16,
   "metadata": {},
   "outputs": [],
   "source": [
    "convert_to_fm('testffm.txt',ratings,\"text\",['userId', 'movieId', 'rating'])\n",
    "ffm_model = xl.create_ffm()\n",
    "ffm_model.setTrain(\"./testffm.txt\")\n",
    "#fm_model.setValidate(\"./small_test.txt\")\n",
    "param = {'task':'reg', 'lr':0.2, 'lambda':0.002}\n",
    "\n",
    "ffm_model.fit(param, \"./model.out\")"
   ]
  },
  {
   "cell_type": "markdown",
   "metadata": {},
   "source": [
    "##### Benchmark it with Matrix factorization"
   ]
  },
  {
   "cell_type": "code",
   "execution_count": null,
   "metadata": {},
   "outputs": [],
   "source": []
  },
  {
   "cell_type": "code",
   "execution_count": null,
   "metadata": {},
   "outputs": [],
   "source": []
  },
  {
   "cell_type": "code",
   "execution_count": null,
   "metadata": {},
   "outputs": [],
   "source": []
  },
  {
   "cell_type": "code",
   "execution_count": null,
   "metadata": {},
   "outputs": [],
   "source": []
  }
 ],
 "metadata": {
  "kernelspec": {
   "display_name": "Python 3",
   "language": "python",
   "name": "python3"
  },
  "language_info": {
   "codemirror_mode": {
    "name": "ipython",
    "version": 3
   },
   "file_extension": ".py",
   "mimetype": "text/x-python",
   "name": "python",
   "nbconvert_exporter": "python",
   "pygments_lexer": "ipython3",
   "version": "3.6.5"
  }
 },
 "nbformat": 4,
 "nbformat_minor": 2
}
