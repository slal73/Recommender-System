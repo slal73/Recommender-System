{
 "cells": [
  {
   "cell_type": "markdown",
   "metadata": {},
   "source": [
    "## Training a MF Model through User and Movie Embeddings"
   ]
  },
  {
   "cell_type": "code",
   "execution_count": 1,
   "metadata": {},
   "outputs": [
    {
     "name": "stderr",
     "output_type": "stream",
     "text": [
      "/Users/akhilpunia/anaconda/envs/py36/lib/python3.6/site-packages/h5py/__init__.py:34: FutureWarning: Conversion of the second argument of issubdtype from `float` to `np.floating` is deprecated. In future, it will be treated as `np.float64 == np.dtype(float).type`.\n",
      "  from ._conv import register_converters as _register_converters\n",
      "Using TensorFlow backend.\n"
     ]
    }
   ],
   "source": [
    "# Setup. Import libraries and load dataframes for Movielens data.\n",
    "import numpy as np\n",
    "import pandas as pd\n",
    "from matplotlib import pyplot as plt\n",
    "import tensorflow as tf\n",
    "import keras\n",
    "from keras.models import model_from_json, load_model\n",
    "import os\n",
    "import random\n",
    "import time\n",
    "\n",
    "# Set random seeds for reproducibility\n",
    "tf.set_random_seed(1); \n",
    "np.random.seed(1); \n",
    "random.seed(1) "
   ]
  },
  {
   "cell_type": "code",
   "execution_count": 2,
   "metadata": {},
   "outputs": [],
   "source": [
    "# setting data path\n",
    "input_dir = 'data/ml-latest/'\n",
    "ratings_path = os.path.join(input_dir, 'ratings.csv')\n",
    "\n",
    "# loading ratings data\n",
    "ratings_df = pd.read_csv(ratings_path, usecols=['userId', 'movieId', 'rating'])"
   ]
  },
  {
   "cell_type": "code",
   "execution_count": 3,
   "metadata": {},
   "outputs": [
    {
     "name": "stdout",
     "output_type": "stream",
     "text": [
      "Average Rating across all users 3.530\n"
     ]
    },
    {
     "data": {
      "text/html": [
       "<div>\n",
       "<style scoped>\n",
       "    .dataframe tbody tr th:only-of-type {\n",
       "        vertical-align: middle;\n",
       "    }\n",
       "\n",
       "    .dataframe tbody tr th {\n",
       "        vertical-align: top;\n",
       "    }\n",
       "\n",
       "    .dataframe thead th {\n",
       "        text-align: right;\n",
       "    }\n",
       "</style>\n",
       "<table border=\"1\" class=\"dataframe\">\n",
       "  <thead>\n",
       "    <tr style=\"text-align: right;\">\n",
       "      <th></th>\n",
       "      <th>userId</th>\n",
       "      <th>movieId</th>\n",
       "      <th>rating</th>\n",
       "      <th>y_g</th>\n",
       "      <th>title</th>\n",
       "    </tr>\n",
       "  </thead>\n",
       "  <tbody>\n",
       "    <tr>\n",
       "      <th>2945217</th>\n",
       "      <td>205212</td>\n",
       "      <td>480</td>\n",
       "      <td>5.0</td>\n",
       "      <td>1.469555</td>\n",
       "      <td>Jurassic Park (1993)</td>\n",
       "    </tr>\n",
       "    <tr>\n",
       "      <th>3182468</th>\n",
       "      <td>68964</td>\n",
       "      <td>541</td>\n",
       "      <td>4.0</td>\n",
       "      <td>0.469555</td>\n",
       "      <td>Blade Runner (1982)</td>\n",
       "    </tr>\n",
       "    <tr>\n",
       "      <th>12749097</th>\n",
       "      <td>44970</td>\n",
       "      <td>1249</td>\n",
       "      <td>4.0</td>\n",
       "      <td>0.469555</td>\n",
       "      <td>Femme Nikita, La (Nikita) (1990)</td>\n",
       "    </tr>\n",
       "    <tr>\n",
       "      <th>24843782</th>\n",
       "      <td>83922</td>\n",
       "      <td>165549</td>\n",
       "      <td>4.0</td>\n",
       "      <td>0.469555</td>\n",
       "      <td>Manchester by the Sea (2016)</td>\n",
       "    </tr>\n",
       "    <tr>\n",
       "      <th>11976545</th>\n",
       "      <td>144157</td>\n",
       "      <td>337</td>\n",
       "      <td>4.0</td>\n",
       "      <td>0.469555</td>\n",
       "      <td>What's Eating Gilbert Grape (1993)</td>\n",
       "    </tr>\n",
       "  </tbody>\n",
       "</table>\n",
       "</div>"
      ],
      "text/plain": [
       "          userId  movieId  rating       y_g  \\\n",
       "2945217   205212      480     5.0  1.469555   \n",
       "3182468    68964      541     4.0  0.469555   \n",
       "12749097   44970     1249     4.0  0.469555   \n",
       "24843782   83922   165549     4.0  0.469555   \n",
       "11976545  144157      337     4.0  0.469555   \n",
       "\n",
       "                                       title  \n",
       "2945217                 Jurassic Park (1993)  \n",
       "3182468                  Blade Runner (1982)  \n",
       "12749097    Femme Nikita, La (Nikita) (1990)  \n",
       "24843782        Manchester by the Sea (2016)  \n",
       "11976545  What's Eating Gilbert Grape (1993)  "
      ]
     },
     "execution_count": 3,
     "metadata": {},
     "output_type": "execute_result"
    }
   ],
   "source": [
    "## Global Average Ratings across All Users\n",
    "av_rating = np.mean(ratings_df.rating)\n",
    "print(\"Average Rating across all users {0:.03f}\".format(av_rating))\n",
    "\n",
    "## Center around Global Mean ['y_g']\n",
    "ratings_df['y_g'] = ratings_df.rating - av_rating\n",
    "\n",
    "## Combining the Movies Title as a Special Column\n",
    "movies_df = pd.read_csv(os.path.join(input_dir, 'movies.csv'), usecols=['movieId', 'title'])\n",
    "\n",
    "df = ratings_df.merge(movies_df, on='movieId').sort_values(by='userId')\n",
    "df = df.sample(frac=1, random_state=1) # Shuffle\n",
    "\n",
    "df.sample( 5, random_state = 1 )"
   ]
  },
  {
   "cell_type": "code",
   "execution_count": 4,
   "metadata": {},
   "outputs": [
    {
     "name": "stdout",
     "output_type": "stream",
     "text": [
      "283,228 distinct users rated 53,889 different movies (total ratings = 27,753,444)\n"
     ]
    }
   ],
   "source": [
    "n_movies = len(df.movieId.unique())\n",
    "n_users = len(df.userId.unique())\n",
    "\n",
    "print(\"{1:,} distinct users rated {0:,} different movies (total ratings = {2:,})\"\n",
    "      .format(n_movies, n_users, len(df)))"
   ]
  },
  {
   "cell_type": "code",
   "execution_count": 5,
   "metadata": {},
   "outputs": [
    {
     "name": "stdout",
     "output_type": "stream",
     "text": [
      "________________________________________________________________________________________\n",
      "Layer (type)                 Output Shape       Param #   Connected to                  \n",
      "========================================================================================\n",
      "user_id (InputLayer)         (None, 1)          0                                       \n",
      "________________________________________________________________________________________\n",
      "movie_id (InputLayer)        (None, 1)          0                                       \n",
      "________________________________________________________________________________________\n",
      "user_embedding (Embedding)   (None, 1, 8)       2265832   user_id[0][0]                 \n",
      "________________________________________________________________________________________\n",
      "movie_embedding (Embedding)  (None, 1, 8)       1551096   movie_id[0][0]                \n",
      "________________________________________________________________________________________\n",
      "dot_1 (Dot)                  (None, 1, 1)       0         user_embedding[0][0]          \n",
      "                                                          movie_embedding[0][0]         \n",
      "________________________________________________________________________________________\n",
      "flatten_1 (Flatten)          (None, 1)          0         dot_1[0][0]                   \n",
      "========================================================================================\n",
      "Total params: 3,816,928\n",
      "Trainable params: 3,816,928\n",
      "Non-trainable params: 0\n",
      "________________________________________________________________________________________\n"
     ]
    }
   ],
   "source": [
    "movie_embedding_size = user_embedding_size = 8\n",
    "\n",
    "# Each instance consists of two inputs: a single user id, and a single movie id\n",
    "user_id_input = keras.Input(shape=(1,), name='user_id')\n",
    "movie_id_input = keras.Input(shape=(1,), name='movie_id')\n",
    "user_embedded = keras.layers.Embedding(df.userId.max()+1, user_embedding_size, \n",
    "                                       input_length=1, name='user_embedding')(user_id_input)\n",
    "movie_embedded = keras.layers.Embedding(df.movieId.max()+1, movie_embedding_size, \n",
    "                                        input_length=1, name='movie_embedding')(movie_id_input)\n",
    "\n",
    "dotted = keras.layers.Dot(2)([user_embedded, movie_embedded])\n",
    "out = keras.layers.Flatten()(dotted)\n",
    "\n",
    "model = keras.Model(\n",
    "    inputs = [user_id_input, movie_id_input],\n",
    "    outputs = out,\n",
    ")\n",
    "model.compile(\n",
    "    tf.train.AdamOptimizer(0.001),\n",
    "    loss='MSE',\n",
    "    metrics=['MAE'],\n",
    ")\n",
    "model.summary(line_length=88)"
   ]
  },
  {
   "cell_type": "code",
   "execution_count": 6,
   "metadata": {},
   "outputs": [],
   "source": [
    "history = model.fit(\n",
    "    [df.userId, df.movieId],\n",
    "    df.y_g,\n",
    "    batch_size=5000,\n",
    "    epochs=20,\n",
    "    verbose=0,\n",
    "    validation_split=.1,\n",
    ");"
   ]
  },
  {
   "cell_type": "code",
   "execution_count": 7,
   "metadata": {},
   "outputs": [
    {
     "data": {
      "image/png": "[encoded data removed]",
      "text/plain": [
       "<Figure size 1080x432 with 1 Axes>"
      ]
     },
     "metadata": {},
     "output_type": "display_data"
    }
   ],
   "source": [
    "fig, ax = plt.subplots(figsize=(15, 6))\n",
    "ax.plot(history.epoch, history.history['val_mean_absolute_error'], label='Validation MAE')\n",
    "ax.plot(history.epoch, history.history['mean_absolute_error'], label='Training MAE')\n",
    "ax.set_xlabel('Epoch')\n",
    "ax.set_ylabel('Mean Absolute Error')\n",
    "ax.set_xlim(left=0, right=history.epoch[-1])\n",
    "baseline_mae = 0.73\n",
    "ax.axhline(baseline_mae, ls='--', label='Baseline', color='#002255', alpha=.5)\n",
    "ax.grid()\n",
    "fig.legend();\n",
    "plt.show()"
   ]
  },
  {
   "cell_type": "code",
   "execution_count": 8,
   "metadata": {},
   "outputs": [
    {
     "name": "stderr",
     "output_type": "stream",
     "text": [
      "/Users/akhilpunia/anaconda/envs/py36/lib/python3.6/site-packages/keras/models.py:139: UserWarning: TensorFlow optimizers do not make it possible to access optimizer attributes or optimizer state after instantiation. As a result, we cannot save the optimizer as part of the model save file.You will have to compile your model again after loading it. Prefer using a Keras optimizer instead (see keras.io/optimizers).\n",
      "  'TensorFlow optimizers do not '\n"
     ]
    }
   ],
   "source": [
    "model.save('movie_mf_model_32.h5')"
   ]
  }
 ],
 "metadata": {
  "kernelspec": {
   "display_name": "Python 3",
   "language": "python",
   "name": "python3"
  },
  "language_info": {
   "codemirror_mode": {
    "name": "ipython",
    "version": 3
   },
   "file_extension": ".py",
   "mimetype": "text/x-python",
   "name": "python",
   "nbconvert_exporter": "python",
   "pygments_lexer": "ipython3",
   "version": "3.6.7"
  }
 },
 "nbformat": 4,
 "nbformat_minor": 2
}
