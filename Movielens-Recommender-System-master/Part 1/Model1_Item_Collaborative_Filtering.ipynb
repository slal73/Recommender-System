{
 "cells": [
  {
   "cell_type": "markdown",
   "metadata": {},
   "source": [
    "# Neighbourhood Based Collaborative Filtering"
   ]
  },
  {
   "cell_type": "markdown",
   "metadata": {},
   "source": [
    "The code below calculates the neighbourhood based collaborative filtering for the item based method.  "
   ]
  },
  {
   "cell_type": "code",
   "execution_count": 72,
   "metadata": {},
   "outputs": [],
   "source": [
    "import pandas as pd\n",
    "import numpy as np\n",
    "import random"
   ]
  },
  {
   "cell_type": "markdown",
   "metadata": {},
   "source": [
    "We are first converting our data frame into a numpy matrix. This will help us to calculate the similarity matrix"
   ]
  },
  {
   "cell_type": "code",
   "execution_count": 73,
   "metadata": {},
   "outputs": [],
   "source": [
    "def convert_matrix(data,user,item,rating):\n",
    "    '''\n",
    "    Input: \n",
    "    \n",
    "        data: This consists of the Dataframe which has the user IDs, movie IDs and the ratings\n",
    "        user: This is the column name for the user IDs in the Data. \n",
    "        item: This is the column name for the item ID in the Data. \n",
    "        rating: This is the column name of the rating values in the Data \n",
    "    \n",
    "    Output: \n",
    "        \n",
    "        matrix: This is a matrix of dimension users x items  \n",
    "    '''\n",
    "    matrix = data.pivot(index=user, columns=item, values=rating).as_matrix()\n",
    "    return matrix   "
   ]
  },
  {
   "cell_type": "markdown",
   "metadata": {},
   "source": [
    "The function *get_user_mean()* and *centralize_matrix()* allows us to calculate the user mean and then centralize the matrix"
   ]
  },
  {
   "cell_type": "code",
   "execution_count": 74,
   "metadata": {},
   "outputs": [],
   "source": [
    "def get_user_mean(matrix):\n",
    "    '''\n",
    "    Input:\n",
    "    \n",
    "        matrix: This consists of the sparse users x items matrix\n",
    "    \n",
    "    Output:\n",
    "    \n",
    "        Will be a numpy array of length equal to the number of users which will consist of the user mean. \n",
    "        \n",
    "    '''\n",
    "    return np.nanmean(matrix, axis = 1)"
   ]
  },
  {
   "cell_type": "code",
   "execution_count": 75,
   "metadata": {},
   "outputs": [],
   "source": [
    "def centralize_matrix(matrix):\n",
    "    '''\n",
    "    Input:\n",
    "        \n",
    "        matrix: This consists of the sparse users x items matrix\n",
    "    \n",
    "    Output:\n",
    "        centered_matrix: This consists of the sparse users x items matrix centered by the user mean. \n",
    "        \n",
    "    '''\n",
    "    user_mean = get_user_mean(matrix)\n",
    "    centered_matrix = matrix - user_mean[:, np.newaxis]\n",
    "    return centered_matrix"
   ]
  },
  {
   "cell_type": "markdown",
   "metadata": {},
   "source": [
    "Once we have the centralized matrix. We require to calculate the adjusted cosine similarity matrix which is given by the formula below\n",
    "\n",
    "$$ AdjustedCosine(i, j) = \\frac{\\Sigma_{u\\in U_i \\cap U_j} s_{ui}s_{uj}}{\\sqrt{\\Sigma_{u\\in U_i \\cap U_j} s_{ui}^2}\\sqrt{ \\Sigma_{u\\in U_i \\cap U_j} s_{uj}^2}}$$\n",
    "\n",
    "where $s_{ui} = r_{uj} − \\mu_{u}$ and $U_i$ represents users who have consumed Item $i$. "
   ]
  },
  {
   "cell_type": "markdown",
   "metadata": {},
   "source": [
    "Calculating the above formula for each $(i,j)$ would take a long time to compute and would not be scalable if implemented through for loops. So we need to identify a way to vectorize the above formula"
   ]
  },
  {
   "cell_type": "markdown",
   "metadata": {},
   "source": [
    "Denoting the centered matrix by $C$. We can see that the numerator of $AdjustedCosine(i, j)$ is $C^TC$ where the $nan$ entries have been replaced by $0$"
   ]
  },
  {
   "cell_type": "markdown",
   "metadata": {},
   "source": [
    "When seeing the denominator, we see that the we require to calculate the sum of the squares of the elements in $C$ where column $i$ and $j$ are bot not missing. Denote a new matrix $N$ where $N(i,j) = 1$ if $C(i,j)$ is nan else 0"
   ]
  },
  {
   "cell_type": "markdown",
   "metadata": {},
   "source": [
    "Then $1 - N$ identifies all the non nan entries in C and replaces the nan entries by 0. We introduce the matrix $N$ here and do not replace the nan directly by $0$ since ratings equal to the mean would be equated to nan which is not a correct implementation"
   ]
  },
  {
   "cell_type": "markdown",
   "metadata": {},
   "source": [
    "Denoting $C^2$ as the element wise squares of the matrix $C$. \n",
    "$$ X = C^2 * (1-N)$$"
   ]
  },
  {
   "cell_type": "markdown",
   "metadata": {},
   "source": [
    "Then $$X(i,j) = \\Sigma_{u\\in U_i \\cap U_j} s_{ui}^2$$"
   ]
  },
  {
   "cell_type": "markdown",
   "metadata": {},
   "source": [
    "$\\sqrt{X^TX}$ calculates the value of the denominator.  The elementwise division of $C^TC$ and $\\sqrt{X^TX}$ provides the adjusted cosine matrix"
   ]
  },
  {
   "cell_type": "markdown",
   "metadata": {},
   "source": [
    "This is what is implemented in the function **cosine_matrix** below"
   ]
  },
  {
   "cell_type": "code",
   "execution_count": 76,
   "metadata": {},
   "outputs": [],
   "source": [
    "def cosine_matrix(matrix):\n",
    "    '''\n",
    "    Input:\n",
    "        \n",
    "        matrix: The centered ratings matrix\n",
    "        \n",
    "    Output:\n",
    "        \n",
    "        output: This is the adjusted cosine matrix between items calculated based on the steps explained above\n",
    "        \n",
    "    '''\n",
    "    where_are_NaNs = np.isnan(matrix)\n",
    "    new_matrix = np.copy(matrix)\n",
    "    new_matrix[where_are_NaNs] = 0\n",
    "    squares = np.square(new_matrix)\n",
    "    num = new_matrix.T.dot(new_matrix)\n",
    "    one_matrix = np.copy(matrix)\n",
    "    one_matrix[~np.isnan(one_matrix)] = 0\n",
    "    one_matrix[np.isnan(one_matrix)] = 1\n",
    "    one_matrix = 1 - one_matrix\n",
    "    temp_matrix = squares.T.dot(one_matrix)\n",
    "    den_matrix = temp_matrix.T * temp_matrix\n",
    "    den = np.sqrt(den_matrix)\n",
    "    output = np.divide(num,den)\n",
    "    return output"
   ]
  },
  {
   "cell_type": "markdown",
   "metadata": {},
   "source": [
    "Once we have the cosine matrix, we require to identify the $k$ items most similar to a given item $i$. The function *get_nearest_neighbors* calculates that using function of numpy. \n",
    "\n",
    "*argsort* provides the index of the sorted matrix. We use that to identify the nearest items"
   ]
  },
  {
   "cell_type": "code",
   "execution_count": 77,
   "metadata": {},
   "outputs": [],
   "source": [
    "def get_nearest_neighbors(matrix, k):\n",
    "    '''\n",
    "    Input:\n",
    "        \n",
    "        matrix: The cosine matrix \n",
    "        k: The number of nearest neighbours required\n",
    "    \n",
    "    Output:\n",
    "        \n",
    "        A matrix of dimensions items x k which consists of the k nearest items for each item. \n",
    "        \n",
    "    '''\n",
    "    temp_matrix = np.copy(matrix)\n",
    "    temp_matrix[np.isnan(temp_matrix)] = 0\n",
    "    t = np.argsort(-1 * temp_matrix)\n",
    "    return(t[:,1:1+k])"
   ]
  },
  {
   "cell_type": "markdown",
   "metadata": {},
   "source": [
    "Once we have the nearest neighbours, we can use that to predict the ratings of a user. \n",
    "\n",
    "$$\\hat{r_{ut}} = \\frac{\\Sigma_{j \\in Q_t(u)}AdjustedCosine(j,t) * r_{uj}}{\\Sigma_{j \\in Q_t(u)}|AdjustedCosine(j, t)|}$$\n",
    "\n",
    "The basic idea is to leverage the user’s own ratings on similar items in the final step of making the prediction"
   ]
  },
  {
   "cell_type": "code",
   "execution_count": 78,
   "metadata": {},
   "outputs": [],
   "source": [
    "def predict(ratings,similarity,ranking,user,item):\n",
    "    '''\n",
    "    Input:\n",
    "        \n",
    "        ratings: The original ratings matrix\n",
    "        similarity: The similarity matrix \n",
    "        ranking: The k most important items for an item \n",
    "        user: The user\n",
    "        item: The item\n",
    "    \n",
    "    Output:\n",
    "        The predicted rating for a user and item \n",
    "    \n",
    "    '''\n",
    "    user_ratings_for_similar_items = ratings[user-1,ranking[item-1]]\n",
    "    similarity_for_similar_items = similarity[item-1,ranking[item-1]]\n",
    "    value = np.dot(user_ratings_for_similar_items, similarity_for_similar_items)/sum(np.absolute(similarity_for_similar_items))\n",
    "    if np.isnan(value):\n",
    "        value = np.nanmean(ratings[user-1])\n",
    "        value = round(value * 2) / 2\n",
    "    if np.isnan(value):\n",
    "        value = 3\n",
    "    return value"
   ]
  },
  {
   "cell_type": "markdown",
   "metadata": {},
   "source": [
    "We now split the data into different slices using the below function"
   ]
  },
  {
   "cell_type": "code",
   "execution_count": 79,
   "metadata": {},
   "outputs": [],
   "source": [
    "def test_indices(matrix, split = 0.2):\n",
    "    '''\n",
    "    Input: \n",
    "        \n",
    "        matrix: The original matrix of ratings \n",
    "        split: The percent of the data required for testing\n",
    "    \n",
    "    Output:\n",
    "        \n",
    "        train: The matrix in which (1-split)% of the non nan entries have been replaced by nan\n",
    "        test_indices: Split% of the indices which have non nan values and \n",
    "    \n",
    "    '''\n",
    "    index = list(np.argwhere(~np.isnan(matrix)))\n",
    "    test_indices = random.sample(index,int(0.2 * len(index)))\n",
    "    train = np.copy(matrix)\n",
    "    for idx in test_indices:\n",
    "        train[idx[0],idx[1]] = np.nan\n",
    "    return train,test_indices  "
   ]
  },
  {
   "cell_type": "code",
   "execution_count": 80,
   "metadata": {},
   "outputs": [],
   "source": [
    "def get_error(actual,predicted):\n",
    "    '''\n",
    "    Input:\n",
    "        \n",
    "        actual: The actual ratings of the user \n",
    "        predicted: The predicted ratings of the user \n",
    "    \n",
    "    Output:\n",
    "        The root mean square error among the above 2 datasets \n",
    "        \n",
    "    '''\n",
    "    actual = np.array(actual)\n",
    "    predicted = np.array(predicted)\n",
    "    return np.power(np.sum((actual - predicted ) * (actual - predicted)),0.5)"
   ]
  },
  {
   "cell_type": "markdown",
   "metadata": {},
   "source": [
    "Let us load the data consisting of $610$ users and $100$ movies. This is a subset of the large movielens dataset."
   ]
  },
  {
   "cell_type": "code",
   "execution_count": 81,
   "metadata": {},
   "outputs": [],
   "source": [
    "subset_data = pd.read_csv('small_subset.csv')"
   ]
  },
  {
   "cell_type": "code",
   "execution_count": 82,
   "metadata": {},
   "outputs": [],
   "source": [
    "user_column_name = 'userId'\n",
    "item_column_name = 'movieId'\n",
    "rating_column_name = 'rating'"
   ]
  },
  {
   "cell_type": "code",
   "execution_count": 83,
   "metadata": {},
   "outputs": [
    {
     "name": "stderr",
     "output_type": "stream",
     "text": [
      "/Users/ashwin/Documents/Columbia Courses/Personalization Theory/Project/personalization_project/lib/python3.7/site-packages/ipykernel_launcher.py:14: FutureWarning: Method .as_matrix will be removed in a future version. Use .values instead.\n",
      "  \n"
     ]
    }
   ],
   "source": [
    "matrix = convert_matrix(subset_data, user_column_name, item_column_name, rating_column_name)"
   ]
  },
  {
   "cell_type": "markdown",
   "metadata": {},
   "source": [
    "We are chossing a split size of $50:50$, $80:20$ and $90:10$. We also choose the neighbourhoods to be $1,2,3,5,10,20$"
   ]
  },
  {
   "cell_type": "code",
   "execution_count": 84,
   "metadata": {},
   "outputs": [],
   "source": [
    "split_size = [0.5, 0.2, 0.1]\n",
    "neighbourhood_size = [1,2,3,5,10,20]"
   ]
  },
  {
   "cell_type": "code",
   "execution_count": 86,
   "metadata": {},
   "outputs": [
    {
     "name": "stderr",
     "output_type": "stream",
     "text": [
      "/Users/ashwin/Documents/Columbia Courses/Personalization Theory/Project/personalization_project/lib/python3.7/site-packages/ipykernel_launcher.py:12: RuntimeWarning: Mean of empty slice\n",
      "  if sys.path[0] == '':\n",
      "/Users/ashwin/Documents/Columbia Courses/Personalization Theory/Project/personalization_project/lib/python3.7/site-packages/ipykernel_launcher.py:19: RuntimeWarning: Mean of empty slice\n"
     ]
    },
    {
     "name": "stdout",
     "output_type": "stream",
     "text": [
      "Split 0.5  and Neighbourhood  1\n",
      "Split 0.5  and Neighbourhood  2\n",
      "Split 0.5  and Neighbourhood  3\n",
      "Split 0.5  and Neighbourhood  5\n",
      "Split 0.5  and Neighbourhood  10\n",
      "Split 0.5  and Neighbourhood  20\n",
      "Split 0.2  and Neighbourhood  1\n",
      "Split 0.2  and Neighbourhood  2\n",
      "Split 0.2  and Neighbourhood  3\n",
      "Split 0.2  and Neighbourhood  5\n",
      "Split 0.2  and Neighbourhood  10\n",
      "Split 0.2  and Neighbourhood  20\n",
      "Split 0.1  and Neighbourhood  1\n",
      "Split 0.1  and Neighbourhood  2\n",
      "Split 0.1  and Neighbourhood  3\n",
      "Split 0.1  and Neighbourhood  5\n",
      "Split 0.1  and Neighbourhood  10\n",
      "Split 0.1  and Neighbourhood  20\n"
     ]
    }
   ],
   "source": [
    "error_across_split_size = []\n",
    "for split in split_size:\n",
    "    train,test = test_indices(matrix, split)\n",
    "    centered_matrix = centralize_matrix(train)\n",
    "    output = cosine_matrix(centered_matrix)\n",
    "    error = []\n",
    "    for k in neighbourhood_size:\n",
    "        print('Split', split, ' and Neighbourhood ', k)\n",
    "        nearest_items = get_nearest_neighbors(output,k)\n",
    "        predicted_value = []\n",
    "        actual_value = []\n",
    "        for index in test:\n",
    "            predicted_value += [predict(train,output,nearest_items, index[0]+1, index[1] + 1)]\n",
    "            actual_value += [matrix[index[0], index[1]]]\n",
    "        error += [get_error(actual_value, predicted_value)]\n",
    "    error_across_split_size  += [error]"
   ]
  },
  {
   "cell_type": "code",
   "execution_count": 98,
   "metadata": {},
   "outputs": [
    {
     "data": {
      "image/png": "[encoded data removed]",
      "text/plain": [
       "<Figure size 720x720 with 1 Axes>"
      ]
     },
     "metadata": {},
     "output_type": "display_data"
    }
   ],
   "source": [
    "import matplotlib.pyplot as plt\n",
    "x = neighbourhood_size\n",
    "y = error_across_split_size\n",
    "plt.figure(figsize=(10,10))\n",
    "plt.style.use('seaborn-whitegrid')\n",
    "plt.plot(x, y[0],'b^-', label='Split = 50%')\n",
    "plt.plot(x, y[1],'g^-', label='Split = 20%')\n",
    "plt.plot(x, y[2],'r^-', label='Split = 10%')\n",
    "plt.xlabel('Number of Neighbours')\n",
    "plt.ylabel('RMSE')\n",
    "plt.title(\"Error across different neighbourhood sizes\")\n",
    "plt.legend()\n",
    "plt.show()"
   ]
  },
  {
   "cell_type": "markdown",
   "metadata": {},
   "source": [
    "Here are some interesting observations from the graph \n",
    "\n",
    "- When we use a single neighboour to predict the ratings, we get a really high root mean square error across the three different splits of training and testing data when the neighbourhood size is 1\n",
    "- The lowest root mean square error occurs at an 80:20 train to test split. \n",
    "- The error is higher at a 90:10 split compared to the 80:20 split. This indicates an overfitting on the training data and the model does not generalize well \n",
    "- When using 100 items, a neighbourhood size of 2 gives the best results. A simple model with 2 neighbours is able to explain better than a model which has more number of neighbours"
   ]
  }
 ],
 "metadata": {
  "kernelspec": {
   "display_name": "Python 3",
   "language": "python",
   "name": "python3"
  },
  "language_info": {
   "codemirror_mode": {
    "name": "ipython",
    "version": 3
   },
   "file_extension": ".py",
   "mimetype": "text/x-python",
   "name": "python",
   "nbconvert_exporter": "python",
   "pygments_lexer": "ipython3",
   "version": "3.7.0"
  }
 },
 "nbformat": 4,
 "nbformat_minor": 2
}
