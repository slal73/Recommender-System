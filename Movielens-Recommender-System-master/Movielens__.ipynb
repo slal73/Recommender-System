{
 "cells": [
  {
   "cell_type": "code",
   "execution_count": 1,
   "metadata": {},
   "outputs": [],
   "source": [
    "import pandas as pd;"
   ]
  },
  {
   "cell_type": "markdown",
   "metadata": {},
   "source": [
    "```\n",
    "dataLink :  http://files.grouplens.org/datasets/movielens/ml-latest.zip\n",
    "groupLens: https://grouplens.org/datasets/movielens/\n",
    "readMe: http://files.grouplens.org/datasets/movielens/ml-latest-README.html\n",
    "```"
   ]
  },
  {
   "cell_type": "markdown",
   "metadata": {},
   "source": [
    "#### Original files"
   ]
  },
  {
   "cell_type": "code",
   "execution_count": 122,
   "metadata": {},
   "outputs": [],
   "source": [
    "genome_scores = pd.read_csv('ml-latest/genome-scores.csv')\n",
    "genome_tags = pd.read_csv('ml-latest/genome-tags.CSV')\n",
    "links = pd.read_csv('ml-latest/links.csv')\n",
    "movies = pd.read_csv('ml-latest/movies.csv')\n",
    "ratings = pd.read_csv('ml-latest/ratings.csv')\n",
    "tags = pd.read_csv('ml-latest/tags.csv')"
   ]
  },
  {
   "cell_type": "markdown",
   "metadata": {},
   "source": [
    "#### Subsetting movies"
   ]
  },
  {
   "cell_type": "code",
   "execution_count": 92,
   "metadata": {},
   "outputs": [],
   "source": [
    "subset_movies_by_count = (ratings.groupby('movieId').count() > 5)['userId']\n",
    "#len(subset_movies_by_count.index[subset_movies_by_count])/len(subset_movies_by_count)*100\n",
    "#53.4%\n",
    "#Subsetting movies which have been rarely rated (count < 100)\n",
    "movie_id = subset_movies_by_count.index[subset_movies_by_count]\n",
    "\n",
    "genome_scores = genome_scores[genome_scores.movieId.isin(movie_id)]\n",
    "links = links[links.movieId.isin(movie_id)]\n",
    "movies = movies[movies.movieId.isin(movie_id)]\n",
    "ratings = ratings[ratings.movieId.isin(movie_id)]\n",
    "tags = tags[tags.movieId.isin(movie_id)]"
   ]
  },
  {
   "cell_type": "markdown",
   "metadata": {},
   "source": [
    "#### Subsetting users"
   ]
  },
  {
   "cell_type": "code",
   "execution_count": 157,
   "metadata": {},
   "outputs": [
    {
     "name": "stdout",
     "output_type": "stream",
     "text": [
      "top 9863 users contribute to ratings for 9153392 movies at a rate 928.0535334076853\n"
     ]
    }
   ],
   "source": [
    "median = ratings.groupby('userId')['rating'].count().median()\n",
    "iqr = ratings.groupby('userId')['rating'].count().quantile(.75) - ratings.groupby('userId')['rating'].count().quantile(.25)\n",
    "outliers = median + 6 * iqr ###only super extreme users\n",
    "x = ratings.groupby('userId')['rating'].count() > outliers\n",
    "print('top {0} users contribute to ratings for {1} movies at a rate {2}'.format(len(x.index[x]), \\\n",
    "                                                ratings[ratings.userId.isin(x.index[x])].shape[0],\\\n",
    "                                        ratings[ratings.userId.isin(x.index[x])].shape[0]/len(x.index[x])    \n",
    "                                                                              ))"
   ]
  },
  {
   "cell_type": "code",
   "execution_count": 158,
   "metadata": {},
   "outputs": [],
   "source": [
    "#Subsetting movies which have been rarely rated (count < 100)\n",
    "subset_users_by_count = (ratings.groupby('userId')['rating'].count() < outliers)\n",
    "user_id = subset_users_by_count.index[subset_users_by_count]\n",
    "ratings = ratings[ratings.userId.isin(user_id)]\n",
    "tags = tags[tags.userId.isin(user_id)]"
   ]
  },
  {
   "cell_type": "markdown",
   "metadata": {},
   "source": [
    "### Start Here"
   ]
  },
  {
   "cell_type": "code",
   "execution_count": null,
   "metadata": {},
   "outputs": [],
   "source": []
  }
 ],
 "metadata": {
  "kernelspec": {
   "display_name": "Python 3",
   "language": "python",
   "name": "python3"
  },
  "language_info": {
   "codemirror_mode": {
    "name": "ipython",
    "version": 3
   },
   "file_extension": ".py",
   "mimetype": "text/x-python",
   "name": "python",
   "nbconvert_exporter": "python",
   "pygments_lexer": "ipython3",
   "version": "3.5.6"
  }
 },
 "nbformat": 4,
 "nbformat_minor": 2
}
